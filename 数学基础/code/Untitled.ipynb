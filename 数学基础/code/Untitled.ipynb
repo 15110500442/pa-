{
 "cells": [
  {
   "cell_type": "code",
   "execution_count": 55,
   "metadata": {},
   "outputs": [
    {
     "name": "stdout",
     "output_type": "stream",
     "text": [
      "请输入:asdffgh\n",
      "加密前:\n",
      "[[  0   0  97]\n",
      " [115 100 102]\n",
      " [102 103 104]]\n",
      "加密后:\n",
      "[[  97  582  873]\n",
      " [ 317 1457 2078]\n",
      " [ 309 1445 2065]]\n",
      "解密后:\n",
      "[[  0.   0.  97.]\n",
      " [115. 100. 102.]\n",
      " [102. 103. 104.]]\n"
     ]
    }
   ],
   "source": [
    "import numpy as np\n",
    "\n",
    "dict = {chr(i):i for i in range(1,123)}\n",
    "dict['0'] = 0\n",
    "user_enter = input('请输入:') \n",
    "leng = len(user_enter) // 3 if len(user_enter) % 3 == 0 else len(user_enter) // 3+1\n",
    "quzheng = user_enter.zfill(leng*3)\n",
    "b = [dict[i] for i in quzheng]\n",
    "np_c = np.array(b)\n",
    "c = np_c.reshape(leng,3)\n",
    "print('加密前:')\n",
    "print(c)\n",
    "key = np.mat([[1,3,4],\n",
    "              [1,5,7],\n",
    "              [1,6,9]])\n",
    "d = c*key\n",
    "print('加密后:')\n",
    "print(d)\n",
    "print('解密后:')\n",
    "jiemi = (c*key.I)*key\n",
    "print(jiemi)\n",
    "      \n",
    "\n"
   ]
  },
  {
   "cell_type": "code",
   "execution_count": 23,
   "metadata": {},
   "outputs": [],
   "source": [
    "a = '我是你爸爸更好的风格的高级的共和党和孤独是股份的合格的碎骨胡说的话跟谁好归宿'"
   ]
  },
  {
   "cell_type": "code",
   "execution_count": 24,
   "metadata": {},
   "outputs": [
    {
     "name": "stdout",
     "output_type": "stream",
     "text": [
      "25105\n",
      "26159\n",
      "20320\n",
      "29240\n",
      "29240\n",
      "26356\n",
      "22909\n",
      "30340\n",
      "39118\n",
      "26684\n",
      "30340\n",
      "39640\n",
      "32423\n",
      "30340\n",
      "20849\n",
      "21644\n",
      "20826\n",
      "21644\n",
      "23396\n",
      "29420\n",
      "26159\n",
      "32929\n",
      "20221\n",
      "30340\n",
      "21512\n",
      "26684\n",
      "30340\n",
      "30862\n",
      "39592\n",
      "32993\n",
      "35828\n",
      "30340\n",
      "35805\n",
      "36319\n",
      "35841\n",
      "22909\n",
      "24402\n",
      "23487\n"
     ]
    }
   ],
   "source": [
    "for i in a:\n",
    "    print(ord(i))"
   ]
  },
  {
   "cell_type": "code",
   "execution_count": 54,
   "metadata": {},
   "outputs": [
    {
     "name": "stdout",
     "output_type": "stream",
     "text": [
      "97\n",
      "99\n",
      "116\n",
      "105\n",
      "111\n",
      "110\n"
     ]
    }
   ],
   "source": [
    "def is_chinese(uchar):\n",
    "    dict = {chr(i):i for i in range(97,123)}\n",
    "    for i in uchar:\n",
    "        for k,v in dict.items():\n",
    "            if k == i:\n",
    "                print(v)\n",
    "is_chinese('action')"
   ]
  },
  {
   "cell_type": "code",
   "execution_count": 35,
   "metadata": {},
   "outputs": [
    {
     "ename": "TypeError",
     "evalue": "an integer is required (got type str)",
     "traceback": [
      "\u001b[0;31m---------------------------------------------------------------------------\u001b[0m",
      "\u001b[0;31mTypeError\u001b[0m                                 Traceback (most recent call last)",
      "\u001b[0;32m<ipython-input-35-4911e8576252>\u001b[0m in \u001b[0;36m<module>\u001b[0;34m()\u001b[0m\n\u001b[0;32m----> 1\u001b[0;31m \u001b[0ma\u001b[0m \u001b[0;34m=\u001b[0m \u001b[0mchr\u001b[0m\u001b[0;34m(\u001b[0m\u001b[0;34m'a'\u001b[0m\u001b[0;34m)\u001b[0m\u001b[0;34m\u001b[0m\u001b[0m\n\u001b[0m",
      "\u001b[0;31mTypeError\u001b[0m: an integer is required (got type str)"
     ],
     "output_type": "error"
    }
   ],
   "source": []
  },
  {
   "cell_type": "code",
   "execution_count": 56,
   "metadata": {},
   "outputs": [
    {
     "data": {
      "text/plain": [
       "33"
      ]
     },
     "execution_count": 56,
     "metadata": {},
     "output_type": "execute_result"
    }
   ],
   "source": [
    "ord('!')"
   ]
  },
  {
   "cell_type": "code",
   "execution_count": null,
   "metadata": {},
   "outputs": [],
   "source": []
  }
 ],
 "metadata": {
  "kernelspec": {
   "display_name": "Python 3",
   "language": "python",
   "name": "python3"
  },
  "language_info": {
   "codemirror_mode": {
    "name": "ipython",
    "version": 3
   },
   "file_extension": ".py",
   "mimetype": "text/x-python",
   "name": "python",
   "nbconvert_exporter": "python",
   "pygments_lexer": "ipython3",
   "version": "3.5.2"
  }
 },
 "nbformat": 4,
 "nbformat_minor": 2
}
