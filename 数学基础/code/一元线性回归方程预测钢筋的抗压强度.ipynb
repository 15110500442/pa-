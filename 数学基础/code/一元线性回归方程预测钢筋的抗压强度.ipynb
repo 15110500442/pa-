{
 "cells": [
  {
   "cell_type": "code",
   "execution_count": null,
   "metadata": {},
   "outputs": [],
   "source": [
    "#用一元线性回归方程预测钢筋的抗压强度\n",
    "list_x = [150,160,170,180,190,200,210,220,230,240]\n",
    "list_y = [56.9,58.3,61.6,64.6,68.1,73,74.1,77.4,80.2,82.5]"
   ]
  }
 ],
 "metadata": {
  "kernelspec": {
   "display_name": "Python 3",
   "language": "python",
   "name": "python3"
  },
  "language_info": {
   "codemirror_mode": {
    "name": "ipython",
    "version": 3
   },
   "file_extension": ".py",
   "mimetype": "text/x-python",
   "name": "python",
   "nbconvert_exporter": "python",
   "pygments_lexer": "ipython3",
   "version": "3.5.2"
  }
 },
 "nbformat": 4,
 "nbformat_minor": 2
}
