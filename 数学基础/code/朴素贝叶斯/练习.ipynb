{
 "cells": [
  {
   "cell_type": "code",
   "execution_count": 3,
   "metadata": {},
   "outputs": [
    {
     "name": "stdout",
     "output_type": "stream",
     "text": [
      "{'Iris-virginica': 3, 'Iris-versicolor': 2, 'Iris-setosa': 1}\n",
      "[4.9 3.0 1.4 0.2 'Iris-setosa']\n",
      "[4.7 3.2 1.3 0.2 'Iris-setosa']\n",
      "[4.6 3.1 1.5 0.2 'Iris-setosa']\n",
      "[5.0 3.6 1.4 0.2 'Iris-setosa']\n",
      "[5.4 3.9 1.7 0.4 'Iris-setosa']\n",
      "[4.6 3.4 1.4 0.3 'Iris-setosa']\n",
      "[5.0 3.4 1.5 0.2 'Iris-setosa']\n",
      "[4.4 2.9 1.4 0.2 'Iris-setosa']\n",
      "[4.9 3.1 1.5 0.1 'Iris-setosa']\n",
      "[5.4 3.7 1.5 0.2 'Iris-setosa']\n",
      "[4.8 3.4 1.6 0.2 'Iris-setosa']\n",
      "[4.8 3.0 1.4 0.1 'Iris-setosa']\n",
      "[4.3 3.0 1.1 0.1 'Iris-setosa']\n",
      "[5.8 4.0 1.2 0.2 'Iris-setosa']\n",
      "[5.7 4.4 1.5 0.4 'Iris-setosa']\n",
      "[5.4 3.9 1.3 0.4 'Iris-setosa']\n",
      "[5.1 3.5 1.4 0.3 'Iris-setosa']\n",
      "[5.7 3.8 1.7 0.3 'Iris-setosa']\n",
      "[5.1 3.8 1.5 0.3 'Iris-setosa']\n",
      "[5.4 3.4 1.7 0.2 'Iris-setosa']\n",
      "[5.1 3.7 1.5 0.4 'Iris-setosa']\n",
      "[4.6 3.6 1.0 0.2 'Iris-setosa']\n",
      "[5.1 3.3 1.7 0.5 'Iris-setosa']\n",
      "[4.8 3.4 1.9 0.2 'Iris-setosa']\n",
      "[5.0 3.0 1.6 0.2 'Iris-setosa']\n",
      "[5.0 3.4 1.6 0.4 'Iris-setosa']\n",
      "[5.2 3.5 1.5 0.2 'Iris-setosa']\n",
      "[5.2 3.4 1.4 0.2 'Iris-setosa']\n",
      "[4.7 3.2 1.6 0.2 'Iris-setosa']\n",
      "[4.8 3.1 1.6 0.2 'Iris-setosa']\n",
      "[5.4 3.4 1.5 0.4 'Iris-setosa']\n",
      "[5.2 4.1 1.5 0.1 'Iris-setosa']\n",
      "[5.5 4.2 1.4 0.2 'Iris-setosa']\n",
      "[4.9 3.1 1.5 0.1 'Iris-setosa']\n",
      "[5.0 3.2 1.2 0.2 'Iris-setosa']\n",
      "[5.5 3.5 1.3 0.2 'Iris-setosa']\n",
      "[4.9 3.1 1.5 0.1 'Iris-setosa']\n",
      "[4.4 3.0 1.3 0.2 'Iris-setosa']\n",
      "[5.1 3.4 1.5 0.2 'Iris-setosa']\n",
      "[5.0 3.5 1.3 0.3 'Iris-setosa']\n",
      "[4.5 2.3 1.3 0.3 'Iris-setosa']\n",
      "[4.4 3.2 1.3 0.2 'Iris-setosa']\n",
      "[5.0 3.5 1.6 0.6 'Iris-setosa']\n",
      "[5.1 3.8 1.9 0.4 'Iris-setosa']\n",
      "[4.8 3.0 1.4 0.3 'Iris-setosa']\n",
      "[5.1 3.8 1.6 0.2 'Iris-setosa']\n",
      "[4.6 3.2 1.4 0.2 'Iris-setosa']\n",
      "[5.3 3.7 1.5 0.2 'Iris-setosa']\n",
      "[5.0 3.3 1.4 0.2 'Iris-setosa']\n",
      "[7.0 3.2 4.7 1.4 'Iris-versicolor']\n",
      "[6.4 3.2 4.5 1.5 'Iris-versicolor']\n",
      "[6.9 3.1 4.9 1.5 'Iris-versicolor']\n",
      "[5.5 2.3 4.0 1.3 'Iris-versicolor']\n",
      "[6.5 2.8 4.6 1.5 'Iris-versicolor']\n",
      "[5.7 2.8 4.5 1.3 'Iris-versicolor']\n",
      "[6.3 3.3 4.7 1.6 'Iris-versicolor']\n",
      "[4.9 2.4 3.3 1.0 'Iris-versicolor']\n",
      "[6.6 2.9 4.6 1.3 'Iris-versicolor']\n",
      "[5.2 2.7 3.9 1.4 'Iris-versicolor']\n",
      "[5.0 2.0 3.5 1.0 'Iris-versicolor']\n",
      "[5.9 3.0 4.2 1.5 'Iris-versicolor']\n",
      "[6.0 2.2 4.0 1.0 'Iris-versicolor']\n",
      "[6.1 2.9 4.7 1.4 'Iris-versicolor']\n",
      "[5.6 2.9 3.6 1.3 'Iris-versicolor']\n",
      "[6.7 3.1 4.4 1.4 'Iris-versicolor']\n",
      "[5.6 3.0 4.5 1.5 'Iris-versicolor']\n",
      "[5.8 2.7 4.1 1.0 'Iris-versicolor']\n",
      "[6.2 2.2 4.5 1.5 'Iris-versicolor']\n",
      "[5.6 2.5 3.9 1.1 'Iris-versicolor']\n",
      "[5.9 3.2 4.8 1.8 'Iris-versicolor']\n",
      "[6.1 2.8 4.0 1.3 'Iris-versicolor']\n",
      "[6.3 2.5 4.9 1.5 'Iris-versicolor']\n",
      "[6.1 2.8 4.7 1.2 'Iris-versicolor']\n",
      "[6.4 2.9 4.3 1.3 'Iris-versicolor']\n",
      "[6.6 3.0 4.4 1.4 'Iris-versicolor']\n",
      "[6.8 2.8 4.8 1.4 'Iris-versicolor']\n",
      "[6.7 3.0 5.0 1.7 'Iris-versicolor']\n",
      "[6.0 2.9 4.5 1.5 'Iris-versicolor']\n",
      "[5.7 2.6 3.5 1.0 'Iris-versicolor']\n",
      "[5.5 2.4 3.8 1.1 'Iris-versicolor']\n",
      "[5.5 2.4 3.7 1.0 'Iris-versicolor']\n",
      "[5.8 2.7 3.9 1.2 'Iris-versicolor']\n",
      "[6.0 2.7 5.1 1.6 'Iris-versicolor']\n",
      "[5.4 3.0 4.5 1.5 'Iris-versicolor']\n",
      "[6.0 3.4 4.5 1.6 'Iris-versicolor']\n",
      "[6.7 3.1 4.7 1.5 'Iris-versicolor']\n",
      "[6.3 2.3 4.4 1.3 'Iris-versicolor']\n",
      "[5.6 3.0 4.1 1.3 'Iris-versicolor']\n",
      "[5.5 2.5 4.0 1.3 'Iris-versicolor']\n",
      "[5.5 2.6 4.4 1.2 'Iris-versicolor']\n",
      "[6.1 3.0 4.6 1.4 'Iris-versicolor']\n",
      "[5.8 2.6 4.0 1.2 'Iris-versicolor']\n",
      "[5.0 2.3 3.3 1.0 'Iris-versicolor']\n",
      "[5.6 2.7 4.2 1.3 'Iris-versicolor']\n",
      "[5.7 3.0 4.2 1.2 'Iris-versicolor']\n",
      "[5.7 2.9 4.2 1.3 'Iris-versicolor']\n",
      "[6.2 2.9 4.3 1.3 'Iris-versicolor']\n",
      "[5.1 2.5 3.0 1.1 'Iris-versicolor']\n",
      "[5.7 2.8 4.1 1.3 'Iris-versicolor']\n",
      "[6.3 3.3 6.0 2.5 'Iris-virginica']\n",
      "[5.8 2.7 5.1 1.9 'Iris-virginica']\n",
      "[7.1 3.0 5.9 2.1 'Iris-virginica']\n",
      "[6.3 2.9 5.6 1.8 'Iris-virginica']\n",
      "[6.5 3.0 5.8 2.2 'Iris-virginica']\n",
      "[7.6 3.0 6.6 2.1 'Iris-virginica']\n",
      "[4.9 2.5 4.5 1.7 'Iris-virginica']\n",
      "[7.3 2.9 6.3 1.8 'Iris-virginica']\n",
      "[6.7 2.5 5.8 1.8 'Iris-virginica']\n",
      "[7.2 3.6 6.1 2.5 'Iris-virginica']\n",
      "[6.5 3.2 5.1 2.0 'Iris-virginica']\n",
      "[6.4 2.7 5.3 1.9 'Iris-virginica']\n",
      "[6.8 3.0 5.5 2.1 'Iris-virginica']\n",
      "[5.7 2.5 5.0 2.0 'Iris-virginica']\n",
      "[5.8 2.8 5.1 2.4 'Iris-virginica']\n",
      "[6.4 3.2 5.3 2.3 'Iris-virginica']\n",
      "[6.5 3.0 5.5 1.8 'Iris-virginica']\n",
      "[7.7 3.8 6.7 2.2 'Iris-virginica']\n",
      "[7.7 2.6 6.9 2.3 'Iris-virginica']\n",
      "[6.0 2.2 5.0 1.5 'Iris-virginica']\n",
      "[6.9 3.2 5.7 2.3 'Iris-virginica']\n",
      "[5.6 2.8 4.9 2.0 'Iris-virginica']\n",
      "[7.7 2.8 6.7 2.0 'Iris-virginica']\n",
      "[6.3 2.7 4.9 1.8 'Iris-virginica']\n",
      "[6.7 3.3 5.7 2.1 'Iris-virginica']\n",
      "[7.2 3.2 6.0 1.8 'Iris-virginica']\n",
      "[6.2 2.8 4.8 1.8 'Iris-virginica']\n",
      "[6.1 3.0 4.9 1.8 'Iris-virginica']\n",
      "[6.4 2.8 5.6 2.1 'Iris-virginica']\n",
      "[7.2 3.0 5.8 1.6 'Iris-virginica']\n",
      "[7.4 2.8 6.1 1.9 'Iris-virginica']\n",
      "[7.9 3.8 6.4 2.0 'Iris-virginica']\n",
      "[6.4 2.8 5.6 2.2 'Iris-virginica']\n",
      "[6.3 2.8 5.1 1.5 'Iris-virginica']\n",
      "[6.1 2.6 5.6 1.4 'Iris-virginica']\n",
      "[7.7 3.0 6.1 2.3 'Iris-virginica']\n",
      "[6.3 3.4 5.6 2.4 'Iris-virginica']\n",
      "[6.4 3.1 5.5 1.8 'Iris-virginica']\n",
      "[6.0 3.0 4.8 1.8 'Iris-virginica']\n",
      "[6.9 3.1 5.4 2.1 'Iris-virginica']\n",
      "[6.7 3.1 5.6 2.4 'Iris-virginica']\n",
      "[6.9 3.1 5.1 2.3 'Iris-virginica']\n",
      "[5.8 2.7 5.1 1.9 'Iris-virginica']\n",
      "[6.8 3.2 5.9 2.3 'Iris-virginica']\n",
      "[6.7 3.3 5.7 2.5 'Iris-virginica']\n",
      "[6.7 3.0 5.2 2.3 'Iris-virginica']\n",
      "[6.3 2.5 5.0 1.9 'Iris-virginica']\n",
      "[6.5 3.0 5.2 2.0 'Iris-virginica']\n",
      "[6.2 3.4 5.4 2.3 'Iris-virginica']\n",
      "[5.9 3.0 5.1 1.8 'Iris-virginica']\n"
     ]
    }
   ],
   "source": [
    "import pandas as pd\n",
    "data = pd.read_excel('iris.xlsx')\n",
    "for i in data.values:\n",
    "    print(i)\n",
    "       \n"
   ]
  },
  {
   "cell_type": "code",
   "execution_count": 4,
   "metadata": {},
   "outputs": [
    {
     "name": "stdout",
     "output_type": "stream",
     "text": [
      "The Zen of Python, by Tim Peters\n",
      "\n",
      "Beautiful is better than ugly.\n",
      "Explicit is better than implicit.\n",
      "Simple is better than complex.\n",
      "Complex is better than complicated.\n",
      "Flat is better than nested.\n",
      "Sparse is better than dense.\n",
      "Readability counts.\n",
      "Special cases aren't special enough to break the rules.\n",
      "Although practicality beats purity.\n",
      "Errors should never pass silently.\n",
      "Unless explicitly silenced.\n",
      "In the face of ambiguity, refuse the temptation to guess.\n",
      "There should be one-- and preferably only one --obvious way to do it.\n",
      "Although that way may not be obvious at first unless you're Dutch.\n",
      "Now is better than never.\n",
      "Although never is often better than *right* now.\n",
      "If the implementation is hard to explain, it's a bad idea.\n",
      "If the implementation is easy to explain, it may be a good idea.\n",
      "Namespaces are one honking great idea -- let's do more of those!\n",
      "<module 'this' from '/usr/lib/python3.5/this.py'>\n"
     ]
    }
   ],
   "source": [
    "import this\n",
    "print(this)\n"
   ]
  },
  {
   "cell_type": "code",
   "execution_count": 20,
   "metadata": {},
   "outputs": [
    {
     "data": {
      "text/plain": [
       "'/home/shijinlei/learn/数据分析/01 数学基础(第一个月)/code/朴素贝叶斯'"
      ]
     },
     "execution_count": 20,
     "metadata": {},
     "output_type": "execute_result"
    }
   ],
   "source": [
    "b"
   ]
  },
  {
   "cell_type": "code",
   "execution_count": 27,
   "metadata": {},
   "outputs": [
    {
     "name": "stdout",
     "output_type": "stream",
     "text": [
      "请输入:我市我是\n"
     ]
    },
    {
     "ename": "ValueError",
     "evalue": "Iterable over raw text documents expected, string object received.",
     "traceback": [
      "\u001b[0;31m---------------------------------------------------------------------------\u001b[0m",
      "\u001b[0;31mValueError\u001b[0m                                Traceback (most recent call last)",
      "\u001b[0;32m<ipython-input-27-d60e226f3187>\u001b[0m in \u001b[0;36m<module>\u001b[0;34m()\u001b[0m\n\u001b[1;32m      2\u001b[0m \u001b[0mvectorizer\u001b[0m \u001b[0;34m=\u001b[0m \u001b[0mCountVectorizer\u001b[0m\u001b[0;34m(\u001b[0m\u001b[0;34m)\u001b[0m\u001b[0;34m\u001b[0m\u001b[0m\n\u001b[1;32m      3\u001b[0m \u001b[0mcorpus\u001b[0m \u001b[0;34m=\u001b[0m \u001b[0minput\u001b[0m\u001b[0;34m(\u001b[0m\u001b[0;34m'请输入:'\u001b[0m\u001b[0;34m)\u001b[0m\u001b[0;34m\u001b[0m\u001b[0m\n\u001b[0;32m----> 4\u001b[0;31m \u001b[0mX\u001b[0m \u001b[0;34m=\u001b[0m \u001b[0mvectorizer\u001b[0m\u001b[0;34m.\u001b[0m\u001b[0mfit_transform\u001b[0m\u001b[0;34m(\u001b[0m\u001b[0mcorpus\u001b[0m\u001b[0;34m)\u001b[0m\u001b[0;34m\u001b[0m\u001b[0m\n\u001b[0m\u001b[1;32m      5\u001b[0m \u001b[0mX\u001b[0m\u001b[0;34m.\u001b[0m\u001b[0mtoarray\u001b[0m\u001b[0;34m(\u001b[0m\u001b[0;34m)\u001b[0m\u001b[0;34m\u001b[0m\u001b[0m\n\u001b[1;32m      6\u001b[0m \u001b[0mvectorizer\u001b[0m\u001b[0;34m.\u001b[0m\u001b[0mget_feature_names\u001b[0m\u001b[0;34m(\u001b[0m\u001b[0;34m)\u001b[0m\u001b[0;34m\u001b[0m\u001b[0m\n",
      "\u001b[0;32m/usr/local/lib/python3.5/dist-packages/sklearn/feature_extraction/text.py\u001b[0m in \u001b[0;36mfit_transform\u001b[0;34m(self, raw_documents, y)\u001b[0m\n\u001b[1;32m    858\u001b[0m         \u001b[0;32mif\u001b[0m \u001b[0misinstance\u001b[0m\u001b[0;34m(\u001b[0m\u001b[0mraw_documents\u001b[0m\u001b[0;34m,\u001b[0m \u001b[0msix\u001b[0m\u001b[0;34m.\u001b[0m\u001b[0mstring_types\u001b[0m\u001b[0;34m)\u001b[0m\u001b[0;34m:\u001b[0m\u001b[0;34m\u001b[0m\u001b[0m\n\u001b[1;32m    859\u001b[0m             raise ValueError(\n\u001b[0;32m--> 860\u001b[0;31m                 \u001b[0;34m\"Iterable over raw text documents expected, \"\u001b[0m\u001b[0;34m\u001b[0m\u001b[0m\n\u001b[0m\u001b[1;32m    861\u001b[0m                 \"string object received.\")\n\u001b[1;32m    862\u001b[0m \u001b[0;34m\u001b[0m\u001b[0m\n",
      "\u001b[0;31mValueError\u001b[0m: Iterable over raw text documents expected, string object received."
     ],
     "output_type": "error"
    }
   ],
   "source": [
    "from sklearn.feature_extraction.text import CountVectorizer\n",
    "vectorizer = CountVectorizer()\n",
    "corpus = input('请输入:')\n",
    "X = vectorizer.fit_transform(corpus)\n",
    "X.toarray() \n",
    "vectorizer.get_feature_names()"
   ]
  },
  {
   "cell_type": "code",
   "execution_count": 38,
   "metadata": {},
   "outputs": [
    {
     "name": "stdout",
     "output_type": "stream",
     "text": [
      "[1 2 3 4 5 6]\n",
      "2.9166666666666665\n"
     ]
    }
   ],
   "source": [
    "from numpy import array\n",
    "from numpy import var\n",
    "v = array([1,2,3,4,5,6])\n",
    "print(v)\n",
    "result = var(v, ddof=0)\n",
    "print(result)"
   ]
  },
  {
   "cell_type": "code",
   "execution_count": null,
   "metadata": {},
   "outputs": [],
   "source": []
  }
 ],
 "metadata": {
  "kernelspec": {
   "display_name": "Python 3",
   "language": "python",
   "name": "python3"
  },
  "language_info": {
   "codemirror_mode": {
    "name": "ipython",
    "version": 3
   },
   "file_extension": ".py",
   "mimetype": "text/x-python",
   "name": "python",
   "nbconvert_exporter": "python",
   "pygments_lexer": "ipython3",
   "version": "3.5.2"
  }
 },
 "nbformat": 4,
 "nbformat_minor": 2
}
