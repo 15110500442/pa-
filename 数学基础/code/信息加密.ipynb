{
 "cells": [
  {
   "cell_type": "code",
   "execution_count": 7,
   "metadata": {},
   "outputs": [
    {
     "name": "stdout",
     "output_type": "stream",
     "text": [
      "[[ 30 186  62]\n",
      " [ 68 156 142]]\n",
      "------------------\n",
      "[[ 70 186  62]\n",
      " [ 96 156 142]]\n"
     ]
    }
   ],
   "source": [
    "import numpy as np\n",
    "# 加密\n",
    "I = np.mat([[1,3,20],\n",
    "             [9,15,14]])\n",
    "# 密钥\n",
    "k =np.mat([[1,0,1],\n",
    "             [3,2,7],\n",
    "            [1,9,2]]) \n",
    "C = I *k\n",
    "print(C)\n",
    "# 解密\n",
    "\n"
   ]
  },
  {
   "cell_type": "code",
   "execution_count": 11,
   "metadata": {},
   "outputs": [
    {
     "name": "stdout",
     "output_type": "stream",
     "text": [
      "Please input E for encryption or D for decryption:action\n",
      "Please input E for encryption or D for decryption:action\n",
      "Please input E for encryption or D for decryption:E\n",
      "请输入明文:action\n",
      "['a', 'c', 't', 'i', 'o', 'n']\n",
      "['a', 'c', 't', 'i', 'o', 'n']\n",
      "[0, 2, 19]\n",
      "[8, 14, 13]\n",
      "['Z', 'T', 'B', 'X', 'R', 'F']\n",
      "加密成功！密文:ZTBXRF\n",
      "Please input E for encryption or D for decryption:d\n",
      "Please input E for encryption or D for decryption:D\n",
      "请输入密文:ZTBXRF\n",
      "解密未实现...\n"
     ]
    },
    {
     "ename": "KeyboardInterrupt",
     "evalue": "",
     "traceback": [
      "\u001b[0;31m---------------------------------------------------------------------------\u001b[0m",
      "\u001b[0;31mKeyboardInterrupt\u001b[0m                         Traceback (most recent call last)",
      "\u001b[0;32m/usr/local/lib/python3.5/dist-packages/ipykernel/kernelbase.py\u001b[0m in \u001b[0;36m_input_request\u001b[0;34m(self, prompt, ident, parent, password)\u001b[0m\n\u001b[1;32m    728\u001b[0m             \u001b[0;32mtry\u001b[0m\u001b[0;34m:\u001b[0m\u001b[0;34m\u001b[0m\u001b[0m\n\u001b[0;32m--> 729\u001b[0;31m                 \u001b[0mident\u001b[0m\u001b[0;34m,\u001b[0m \u001b[0mreply\u001b[0m \u001b[0;34m=\u001b[0m \u001b[0mself\u001b[0m\u001b[0;34m.\u001b[0m\u001b[0msession\u001b[0m\u001b[0;34m.\u001b[0m\u001b[0mrecv\u001b[0m\u001b[0;34m(\u001b[0m\u001b[0mself\u001b[0m\u001b[0;34m.\u001b[0m\u001b[0mstdin_socket\u001b[0m\u001b[0;34m,\u001b[0m \u001b[0;36m0\u001b[0m\u001b[0;34m)\u001b[0m\u001b[0;34m\u001b[0m\u001b[0m\n\u001b[0m\u001b[1;32m    730\u001b[0m             \u001b[0;32mexcept\u001b[0m \u001b[0mException\u001b[0m\u001b[0;34m:\u001b[0m\u001b[0;34m\u001b[0m\u001b[0m\n",
      "\u001b[0;32m/usr/local/lib/python3.5/dist-packages/jupyter_client/session.py\u001b[0m in \u001b[0;36mrecv\u001b[0;34m(self, socket, mode, content, copy)\u001b[0m\n\u001b[1;32m    802\u001b[0m         \u001b[0;32mtry\u001b[0m\u001b[0;34m:\u001b[0m\u001b[0;34m\u001b[0m\u001b[0m\n\u001b[0;32m--> 803\u001b[0;31m             \u001b[0mmsg_list\u001b[0m \u001b[0;34m=\u001b[0m \u001b[0msocket\u001b[0m\u001b[0;34m.\u001b[0m\u001b[0mrecv_multipart\u001b[0m\u001b[0;34m(\u001b[0m\u001b[0mmode\u001b[0m\u001b[0;34m,\u001b[0m \u001b[0mcopy\u001b[0m\u001b[0;34m=\u001b[0m\u001b[0mcopy\u001b[0m\u001b[0;34m)\u001b[0m\u001b[0;34m\u001b[0m\u001b[0m\n\u001b[0m\u001b[1;32m    804\u001b[0m         \u001b[0;32mexcept\u001b[0m \u001b[0mzmq\u001b[0m\u001b[0;34m.\u001b[0m\u001b[0mZMQError\u001b[0m \u001b[0;32mas\u001b[0m \u001b[0me\u001b[0m\u001b[0;34m:\u001b[0m\u001b[0;34m\u001b[0m\u001b[0m\n",
      "\u001b[0;32m/usr/local/lib/python3.5/dist-packages/zmq/sugar/socket.py\u001b[0m in \u001b[0;36mrecv_multipart\u001b[0;34m(self, flags, copy, track)\u001b[0m\n\u001b[1;32m    465\u001b[0m         \"\"\"\n\u001b[0;32m--> 466\u001b[0;31m         \u001b[0mparts\u001b[0m \u001b[0;34m=\u001b[0m \u001b[0;34m[\u001b[0m\u001b[0mself\u001b[0m\u001b[0;34m.\u001b[0m\u001b[0mrecv\u001b[0m\u001b[0;34m(\u001b[0m\u001b[0mflags\u001b[0m\u001b[0;34m,\u001b[0m \u001b[0mcopy\u001b[0m\u001b[0;34m=\u001b[0m\u001b[0mcopy\u001b[0m\u001b[0;34m,\u001b[0m \u001b[0mtrack\u001b[0m\u001b[0;34m=\u001b[0m\u001b[0mtrack\u001b[0m\u001b[0;34m)\u001b[0m\u001b[0;34m]\u001b[0m\u001b[0;34m\u001b[0m\u001b[0m\n\u001b[0m\u001b[1;32m    467\u001b[0m         \u001b[0;31m# have first part already, only loop while more to receive\u001b[0m\u001b[0;34m\u001b[0m\u001b[0;34m\u001b[0m\u001b[0m\n",
      "\u001b[0;32mzmq/backend/cython/socket.pyx\u001b[0m in \u001b[0;36mzmq.backend.cython.socket.Socket.recv\u001b[0;34m()\u001b[0m\n",
      "\u001b[0;32mzmq/backend/cython/socket.pyx\u001b[0m in \u001b[0;36mzmq.backend.cython.socket.Socket.recv\u001b[0;34m()\u001b[0m\n",
      "\u001b[0;32mzmq/backend/cython/socket.pyx\u001b[0m in \u001b[0;36mzmq.backend.cython.socket._recv_copy\u001b[0;34m()\u001b[0m\n",
      "\u001b[0;32m/usr/local/lib/python3.5/dist-packages/zmq/backend/cython/checkrc.pxd\u001b[0m in \u001b[0;36mzmq.backend.cython.checkrc._check_rc\u001b[0;34m()\u001b[0m\n",
      "\u001b[0;31mKeyboardInterrupt\u001b[0m: ",
      "\nDuring handling of the above exception, another exception occurred:\n",
      "\u001b[0;31mKeyboardInterrupt\u001b[0m                         Traceback (most recent call last)",
      "\u001b[0;32m<ipython-input-11-974eb82b21d7>\u001b[0m in \u001b[0;36m<module>\u001b[0;34m()\u001b[0m\n\u001b[1;32m     82\u001b[0m \u001b[0;32mif\u001b[0m \u001b[0m__name__\u001b[0m \u001b[0;34m==\u001b[0m \u001b[0;34m\"__main__\"\u001b[0m\u001b[0;34m:\u001b[0m\u001b[0;34m\u001b[0m\u001b[0m\n\u001b[1;32m     83\u001b[0m      \u001b[0;32mwhile\u001b[0m \u001b[0;32mTrue\u001b[0m\u001b[0;34m:\u001b[0m\u001b[0;34m\u001b[0m\u001b[0m\n\u001b[0;32m---> 84\u001b[0;31m          \u001b[0mchoice\u001b[0m \u001b[0;34m=\u001b[0m \u001b[0minput\u001b[0m\u001b[0;34m(\u001b[0m\u001b[0;34m\"Please input E for encryption or D for decryption:\"\u001b[0m\u001b[0;34m)\u001b[0m\u001b[0;34m\u001b[0m\u001b[0m\n\u001b[0m\u001b[1;32m     85\u001b[0m          \u001b[0;32mif\u001b[0m \u001b[0mchoice\u001b[0m \u001b[0;34m==\u001b[0m \u001b[0;34m\"E\"\u001b[0m\u001b[0;34m:\u001b[0m\u001b[0;34m\u001b[0m\u001b[0m\n\u001b[1;32m     86\u001b[0m              \u001b[0mclear_text\u001b[0m \u001b[0;34m=\u001b[0m \u001b[0minput\u001b[0m\u001b[0;34m(\u001b[0m\u001b[0;34m\"请输入明文:\"\u001b[0m\u001b[0;34m)\u001b[0m\u001b[0;34m\u001b[0m\u001b[0m\n",
      "\u001b[0;32m/usr/local/lib/python3.5/dist-packages/ipykernel/kernelbase.py\u001b[0m in \u001b[0;36mraw_input\u001b[0;34m(self, prompt)\u001b[0m\n\u001b[1;32m    702\u001b[0m             \u001b[0mself\u001b[0m\u001b[0;34m.\u001b[0m\u001b[0m_parent_ident\u001b[0m\u001b[0;34m,\u001b[0m\u001b[0;34m\u001b[0m\u001b[0m\n\u001b[1;32m    703\u001b[0m             \u001b[0mself\u001b[0m\u001b[0;34m.\u001b[0m\u001b[0m_parent_header\u001b[0m\u001b[0;34m,\u001b[0m\u001b[0;34m\u001b[0m\u001b[0m\n\u001b[0;32m--> 704\u001b[0;31m             \u001b[0mpassword\u001b[0m\u001b[0;34m=\u001b[0m\u001b[0;32mFalse\u001b[0m\u001b[0;34m,\u001b[0m\u001b[0;34m\u001b[0m\u001b[0m\n\u001b[0m\u001b[1;32m    705\u001b[0m         )\n\u001b[1;32m    706\u001b[0m \u001b[0;34m\u001b[0m\u001b[0m\n",
      "\u001b[0;32m/usr/local/lib/python3.5/dist-packages/ipykernel/kernelbase.py\u001b[0m in \u001b[0;36m_input_request\u001b[0;34m(self, prompt, ident, parent, password)\u001b[0m\n\u001b[1;32m    732\u001b[0m             \u001b[0;32mexcept\u001b[0m \u001b[0mKeyboardInterrupt\u001b[0m\u001b[0;34m:\u001b[0m\u001b[0;34m\u001b[0m\u001b[0m\n\u001b[1;32m    733\u001b[0m                 \u001b[0;31m# re-raise KeyboardInterrupt, to truncate traceback\u001b[0m\u001b[0;34m\u001b[0m\u001b[0;34m\u001b[0m\u001b[0m\n\u001b[0;32m--> 734\u001b[0;31m                 \u001b[0;32mraise\u001b[0m \u001b[0mKeyboardInterrupt\u001b[0m\u001b[0;34m\u001b[0m\u001b[0m\n\u001b[0m\u001b[1;32m    735\u001b[0m             \u001b[0;32melse\u001b[0m\u001b[0;34m:\u001b[0m\u001b[0;34m\u001b[0m\u001b[0m\n\u001b[1;32m    736\u001b[0m                 \u001b[0;32mbreak\u001b[0m\u001b[0;34m\u001b[0m\u001b[0m\n",
      "\u001b[0;31mKeyboardInterrupt\u001b[0m: "
     ],
     "output_type": "error"
    }
   ],
   "source": [
    "#加密密钥矩阵\n",
    "K_LIST = [[17, 17, 5],\n",
    "           [21, 18, 21],\n",
    "           [2, 2, 19]]\n",
    " \n",
    " #26个字母列表：方便找出对应下标\n",
    "ALPHABET = [\"A\",\"B\",\"C\",\"D\",\"E\",\"F\",\"G\",\n",
    "             \"H\",\"I\",\"J\",\"K\",\"L\",\"M\",\"N\",\n",
    "             \"O\",\"P\",\"Q\",\"R\",\"S\",\"T\",\"U\",\n",
    "             \"V\",\"W\",\"X\",\"Y\",\"Z\"]\n",
    "\n",
    "def get_index(alphabet):\n",
    "    \"\"\"\n",
    "    获得字母在字母表中的对应位置(下标)\n",
    "    :param alphabet: 明文字母\n",
    "    :return: 下标\n",
    "    \"\"\"\n",
    "    alphabet = alphabet.upper()\n",
    "    return ALPHABET.index(alphabet)\n",
    "\n",
    "def deal_index(list_index):\n",
    "     \"\"\"\n",
    "     加密处理C＝KP\n",
    "     :param list_index: 每一组明文字母的下标\n",
    "     :return: 加密后密文的下标\n",
    "     \"\"\"\n",
    "     deal_list = [0,0,0]\n",
    "     for i in range(len(K_LIST)):\n",
    "         for j in range(len(K_LIST[i])):\n",
    "             deal_list[i] += list_index[j] * K_LIST[i][j]\n",
    "         deal_list[i] = (deal_list[i] % 26)\n",
    "     return deal_list\n",
    "\n",
    "def get_alphabet(deal_list):\n",
    "     \"\"\"\n",
    "     通过字母的下标获得对应字母\n",
    "     :param deal_list: 下标的列表\n",
    "     :return: 返回密文字母列表\n",
    "     \"\"\"\n",
    "     cipher_list = []\n",
    "     for i in deal_list:\n",
    "         cipher_list.append(ALPHABET[i])\n",
    "     return cipher_list\n",
    "\n",
    "def encryption(clear_text):\n",
    "     \"\"\"\n",
    "     加密时调用的函数\n",
    "     :param clear_text:输入的明文\n",
    "     :return: 加密后的密文\n",
    "     \"\"\"\n",
    "     list_clear_text = list(clear_text.strip().replace(\" \", \"\"))\n",
    "     print(list_clear_text)\n",
    "     #明文每3个一组，不足则补充字母Z\n",
    "     for i in range(len(list_clear_text)):\n",
    "         if i % 3 == 0 and i+2 > len(list_clear_text)-1:  # 越界，则需在最后一组不足3个补字母Z\n",
    "             if i+1 > len(list_clear_text)-1:\n",
    "                 list_clear_text.insert(i + 1, \"Z\")\n",
    "             list_clear_text.insert(i + 2, \"Z\")\n",
    "     print(list_clear_text)\n",
    "     cipher_list = []   #用来存入密文\n",
    "     #明文每3个为一组，找出每组在字母表中的位置(用一个列表来保存)\n",
    "     for i in range(len(list_clear_text)):\n",
    "         if i % 3 == 0 and i+2 <= len(list_clear_text)-1:\n",
    "             x = get_index(list_clear_text[i])\n",
    "             y = get_index(list_clear_text[i+1])\n",
    "             z = get_index(list_clear_text[i+2])\n",
    "             list_index = [x, y, z]\n",
    "             print(list_index)\n",
    "             #调用deal_inde函数进行加密 矩阵K与明文P运算得到密文C，即C＝KP\n",
    "             deal_list = deal_index(list_index)\n",
    "             #print(deal_list)    #测试用的\n",
    "             part_cipher_list = get_alphabet(deal_list)   #返回一组密文\n",
    "             cipher_list.extend(part_cipher_list)\n",
    "             #print(part_cipher_list)      #测试用的\n",
    "\n",
    "     print(cipher_list)\n",
    "     return \"\".join(cipher_list)\n",
    "\n",
    "def decryption():\n",
    "     print(\"解密未实现...\")\n",
    "\n",
    "if __name__ == \"__main__\":\n",
    "     while True:\n",
    "         choice = input(\"Please input E for encryption or D for decryption:\")\n",
    "         if choice == \"E\":\n",
    "             clear_text = input(\"请输入明文:\")\n",
    "             print(\"加密成功！密文:%s\" % encryption(clear_text))\n",
    "         if choice == \"D\":\n",
    "             cipher_text = input(\"请输入密文:\")\n",
    "             decryption()"
   ]
  },
  {
   "cell_type": "code",
   "execution_count": 48,
   "metadata": {},
   "outputs": [
    {
     "name": "stdout",
     "output_type": "stream",
     "text": [
      "0\n",
      "1\n",
      "2\n",
      "3\n",
      "4\n",
      "5\n",
      "6\n",
      "7\n",
      "8\n",
      "\n"
     ]
    }
   ],
   "source": [
    "str2 = \"aaabccddd\"\n",
    "def Zip(str2):\n",
    "    zip = \"\"\n",
    "    n = 1\n",
    "    for i in range(len(str2)):\n",
    "        if str2[i] == str2[i]:\n",
    "            n += 1\n",
    "        else:\n",
    "            str2_n = str(n)\n",
    "            zip += str2[i]\n",
    "            if n != 1:\n",
    "                zip += str2_n\n",
    "            n = 1\n",
    "    return zip\n",
    "print(Zip(str2))"
   ]
  },
  {
   "cell_type": "code",
   "execution_count": null,
   "metadata": {},
   "outputs": [],
   "source": []
  },
  {
   "cell_type": "code",
   "execution_count": 15,
   "metadata": {},
   "outputs": [
    {
     "name": "stdout",
     "output_type": "stream",
     "text": [
      "[[ 1.   3.  -2. ]\n",
      " [-1.5 -3.   2.5]\n",
      " [ 1.   1.  -1. ]]\n"
     ]
    }
   ],
   "source": [
    "import numpy as np\n",
    "# 加密\n",
    "k = np.mat([[1,2,3],\n",
    "            [2,2,1],\n",
    "            [3,4,3]])\n",
    "print(k.I)"
   ]
  },
  {
   "cell_type": "code",
   "execution_count": 44,
   "metadata": {},
   "outputs": [
    {
     "name": "stdout",
     "output_type": "stream",
     "text": [
      "['a', 'b', 'c', 'd', 'e', 'f', 'g', 'h', 'i', 'j', 'k', 'l', 'm', 'n', 'o', 'p', 'q', 'r', 's', 't', 'u', 'v', 'w', 'x', 'y', 'z']\n"
     ]
    }
   ],
   "source": [
    "    "
   ]
  },
  {
   "cell_type": "code",
   "execution_count": null,
   "metadata": {},
   "outputs": [],
   "source": []
  }
 ],
 "metadata": {
  "kernelspec": {
   "display_name": "Python 3",
   "language": "python",
   "name": "python3"
  },
  "language_info": {
   "codemirror_mode": {
    "name": "ipython",
    "version": 3
   },
   "file_extension": ".py",
   "mimetype": "text/x-python",
   "name": "python",
   "nbconvert_exporter": "python",
   "pygments_lexer": "ipython3",
   "version": "3.5.2"
  }
 },
 "nbformat": 4,
 "nbformat_minor": 2
}
